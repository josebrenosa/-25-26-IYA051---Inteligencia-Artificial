{
  "nbformat": 4,
  "nbformat_minor": 0,
  "metadata": {
    "colab": {
      "provenance": []
    },
    "kernelspec": {
      "name": "python3",
      "display_name": "Python 3"
    },
    "language_info": {
      "name": "python"
    }
  },
  "cells": [
    {
      "cell_type": "markdown",
      "source": [
        "# Reconocimiento de cartas de baraja francesa mediante Visión Artificial"
      ],
      "metadata": {
        "id": "PDQxh4r41xvi"
      }
    },
    {
      "cell_type": "code",
      "execution_count": null,
      "metadata": {
        "id": "W5whdAd21v6q"
      },
      "outputs": [],
      "source": [
        "print(\"Hola, Mundo!\")"
      ]
    }
  ]
}